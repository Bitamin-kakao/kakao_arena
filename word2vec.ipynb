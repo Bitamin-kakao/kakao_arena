{
  "nbformat": 4,
  "nbformat_minor": 0,
  "metadata": {
    "colab": {
      "name": "Untitled3.ipynb",
      "provenance": [],
      "collapsed_sections": []
    },
    "kernelspec": {
      "name": "python3",
      "display_name": "Python 3"
    }
  },
  "cells": [
    {
      "cell_type": "code",
      "metadata": {
        "id": "WgWxVVDq2YqR",
        "colab_type": "code",
        "colab": {}
      },
      "source": [
        "corpus = ['king is a strong man', \n",
        "          'queen is a wise woman', \n",
        "          'boy is a young man',\n",
        "          'girl is a young woman',\n",
        "          'prince is a young king',\n",
        "          'princess is a young queen',\n",
        "          'man is strong', \n",
        "          'woman is pretty',\n",
        "          'prince is a boy will be king',\n",
        "          'princess is a girl will be queen']"
      ],
      "execution_count": 0,
      "outputs": []
    },
    {
      "cell_type": "code",
      "metadata": {
        "id": "uOQg8C2Y2s6m",
        "colab_type": "code",
        "colab": {}
      },
      "source": [
        "#불용어 제거\n",
        "def remove_stop_words(corpus):\n",
        "    stop_words = ['is', 'a', 'will', 'be']\n",
        "    results = []\n",
        "    for text in corpus:\n",
        "        tmp = text.split(' ')\n",
        "        for stop_word in stop_words:\n",
        "            if stop_word in tmp:\n",
        "                tmp.remove(stop_word)\n",
        "        results.append(\" \".join(tmp))\n",
        "    \n",
        "    return results"
      ],
      "execution_count": 0,
      "outputs": []
    },
    {
      "cell_type": "code",
      "metadata": {
        "id": "LeArqWPk2xRC",
        "colab_type": "code",
        "colab": {}
      },
      "source": [
        "corpus = remove_stop_words(corpus)\n",
        "corpus"
      ],
      "execution_count": 0,
      "outputs": []
    },
    {
      "cell_type": "code",
      "metadata": {
        "id": "p3xsV3Xy2-fX",
        "colab_type": "code",
        "colab": {}
      },
      "source": [
        "words = []\n",
        "for text in corpus:\n",
        "    for word in text.split(' '):\n",
        "        words.append(word)\n",
        "\n",
        "words = set(words)"
      ],
      "execution_count": 0,
      "outputs": []
    },
    {
      "cell_type": "markdown",
      "metadata": {
        "id": "Yfp0e-E04LON",
        "colab_type": "text"
      },
      "source": [
        "### word2vec table 생성"
      ]
    },
    {
      "cell_type": "code",
      "metadata": {
        "id": "w-_KqYxk3tL8",
        "colab_type": "code",
        "colab": {}
      },
      "source": [
        "word2int = {}\n",
        "\n",
        "for i,word in enumerate(words):\n",
        "    word2int[word] = i\n",
        "\n",
        "sentences = []\n",
        "for sentence in corpus:\n",
        "    sentences.append(sentence.split())\n",
        "    \n",
        "# 앞뒤 몇개 단어를 가져올거니?\n",
        "WINDOW_SIZE = 2\n",
        "\n",
        "data = []\n",
        "for sentence in sentences:\n",
        "    for idx, word in enumerate(sentence):\n",
        "        for neighbor in sentence[max(idx - WINDOW_SIZE, 0) : min(idx + WINDOW_SIZE, len(sentence)) + 1] : \n",
        "            if neighbor != word:\n",
        "                data.append([word, neighbor])"
      ],
      "execution_count": 0,
      "outputs": []
    },
    {
      "cell_type": "code",
      "metadata": {
        "id": "-chOTUBH3u5y",
        "colab_type": "code",
        "colab": {}
      },
      "source": [
        "import pandas as pd\n",
        "for text in corpus:\n",
        "    print(text)\n",
        "\n",
        "df = pd.DataFrame(data, columns = ['input', 'label'])"
      ],
      "execution_count": 0,
      "outputs": []
    },
    {
      "cell_type": "code",
      "metadata": {
        "id": "_uxB_8HZ3yO6",
        "colab_type": "code",
        "colab": {}
      },
      "source": [
        "from nltk.tokenize import word_tokenize, sent_tokenize"
      ],
      "execution_count": 0,
      "outputs": []
    },
    {
      "cell_type": "code",
      "metadata": {
        "id": "h3D9csE243A9",
        "colab_type": "code",
        "colab": {}
      },
      "source": [
        "result = [word_tokenize(text) for text in corpus]"
      ],
      "execution_count": 0,
      "outputs": []
    },
    {
      "cell_type": "code",
      "metadata": {
        "id": "0HQPQ79Z-2-v",
        "colab_type": "code",
        "colab": {}
      },
      "source": [
        "from gensim.models import Word2Vec\n",
        "#size=w1,w2...의 개수\n",
        "model = Word2Vec(sentences=result, size=2, window=2, min_count=1, workers=4, sg=1)"
      ],
      "execution_count": 0,
      "outputs": []
    },
    {
      "cell_type": "code",
      "metadata": {
        "id": "cyKPZLV-_Veu",
        "colab_type": "code",
        "colab": {}
      },
      "source": [
        "model_result = model.wv.most_similar(\"man\")\n",
        "print(model_result)"
      ],
      "execution_count": 0,
      "outputs": []
    },
    {
      "cell_type": "code",
      "metadata": {
        "id": "3fHfJ9M-Am3p",
        "colab_type": "code",
        "colab": {}
      },
      "source": [
        "#모델저장하기\n",
        "from gensim.models import KeyedVectors\n",
        "model.wv.save_word2vec_format('eng_w2v') # 모델 저장\n",
        "loaded_model = KeyedVectors.load_word2vec_format(\"eng_w2v\") #불러오기"
      ],
      "execution_count": 0,
      "outputs": []
    },
    {
      "cell_type": "code",
      "metadata": {
        "id": "DswgKSpFAo7O",
        "colab_type": "code",
        "colab": {}
      },
      "source": [
        "model_result = loaded_model.most_similar(\"man\")\n",
        "print(model_result)"
      ],
      "execution_count": 0,
      "outputs": []
    },
    {
      "cell_type": "markdown",
      "metadata": {
        "id": "t-ibN2WWA4RX",
        "colab_type": "text"
      },
      "source": [
        "### kakao arena에 해보기"
      ]
    },
    {
      "cell_type": "code",
      "metadata": {
        "id": "P00tBAhJA5JC",
        "colab_type": "code",
        "colab": {}
      },
      "source": [
        "import pickle\n",
        "with open('train_genre.pickle', 'rb') as f:\n",
        "    train = pickle.load(f)"
      ],
      "execution_count": 0,
      "outputs": []
    },
    {
      "cell_type": "code",
      "metadata": {
        "id": "A_7qbuHGBKCE",
        "colab_type": "code",
        "colab": {}
      },
      "source": [
        "import pandas as pd\n",
        "train = pd.DataFrame(train)"
      ],
      "execution_count": 0,
      "outputs": []
    },
    {
      "cell_type": "code",
      "metadata": {
        "id": "uIG0wI2QV82I",
        "colab_type": "code",
        "colab": {}
      },
      "source": [
        "import sys\n",
        "text = open('output.txt','w')\n",
        "i=0\n",
        "while i < len(corpus):\n",
        "    text.write(corpus[i]+'\\n')\n",
        "    print(corpus[i])\n",
        "    i+=1\n",
        "text.close()"
      ],
      "execution_count": 0,
      "outputs": []
    },
    {
      "cell_type": "code",
      "metadata": {
        "id": "HhdtZXMoVjQF",
        "colab_type": "code",
        "colab": {}
      },
      "source": [
        "!pip install sentencepiece"
      ],
      "execution_count": 0,
      "outputs": []
    },
    {
      "cell_type": "code",
      "metadata": {
        "id": "6wDJHTt5Rc2q",
        "colab_type": "code",
        "colab": {}
      },
      "source": [
        "import sentencepiece as spm\n",
        "spm.SentencePieceTrainer.Train('--input=output.txt --model_prefix=m --vocab_size=31')"
      ],
      "execution_count": 0,
      "outputs": []
    },
    {
      "cell_type": "code",
      "metadata": {
        "id": "uP3q70gDBa0V",
        "colab_type": "code",
        "colab": {}
      },
      "source": [
        "sp = spm.SentencePieceProcessor()\n",
        "sp.Load(\"m.model\")\n",
        "#kkma([train.plylst_title[1],(train.tags[1])])"
      ],
      "execution_count": 0,
      "outputs": []
    },
    {
      "cell_type": "code",
      "metadata": {
        "id": "sFc0utcvdmf5",
        "colab_type": "code",
        "colab": {}
      },
      "source": [
        "# tag & playlist 하나로 합치고, cleansing 해서 txt파일로 저장\n",
        "\n",
        "def clean_str(text):\n",
        "    pattern = '([a-zA-Z0-9_.+-]+@[a-zA-Z0-9-]+\\.[a-zA-Z0-9-.]+)' # E-mail제거\n",
        "    text = re.sub(pattern=pattern, repl='', string=text)\n",
        "    pattern = '(http|ftp|https)://(?:[-\\w.]|(?:%[\\da-fA-F]{2}))+' # URL제거\n",
        "    text = re.sub(pattern=pattern, repl='', string=text)\n",
        "    pattern = '([ㄱ-ㅎㅏ-ㅣ]+)'  # 한글 자음, 모음 제거\n",
        "    text = re.sub(pattern=pattern, repl='', string=text)\n",
        "    pattern = '<[^>]*>'         # HTML 태그 제거\n",
        "    text = re.sub(pattern=pattern, repl='', string=text)\n",
        "    pattern = '[^\\w\\s]'         # 특수기호제거\n",
        "    text = re.sub(pattern=pattern, repl='', string=text)\n",
        "    return text  \n",
        "\n",
        "i=0\n",
        "import sys\n",
        "text = open('output.txt','w')\n",
        "\n",
        "while i < len(train):\n",
        "    mylist = [[train.plylst_title[i]],train.tags[i]]\n",
        "    clean = clean_str(' '.join(sum(mylist,[])))\n",
        "    text.write(clean+'\\n')\n",
        "    print(clean)\n",
        "    i+=1\n",
        "text.close()\n"
      ],
      "execution_count": 0,
      "outputs": []
    },
    {
      "cell_type": "code",
      "metadata": {
        "id": "RvaKEg8vldSH",
        "colab_type": "code",
        "colab": {}
      },
      "source": [
        "with open('output.txt') as f:\n",
        "    data = f.read().splitlines() "
      ],
      "execution_count": 0,
      "outputs": []
    },
    {
      "cell_type": "code",
      "metadata": {
        "id": "Mm92Jo4aqJNR",
        "colab_type": "code",
        "colab": {}
      },
      "source": [
        "data"
      ],
      "execution_count": 0,
      "outputs": []
    },
    {
      "cell_type": "code",
      "metadata": {
        "id": "bAH7cFJfqYl1",
        "colab_type": "code",
        "colab": {}
      },
      "source": [
        "result = [word_tokenize(text) for text in data]\n",
        "model = Word2Vec(sentences=result, size=2, window=2, min_count=10, workers=4, sg=1)\n",
        "model_result = model.wv.most_similar(\"man\")\n",
        "print(model_result)"
      ],
      "execution_count": 0,
      "outputs": []
    },
    {
      "cell_type": "code",
      "metadata": {
        "id": "eeo8nRc1qyCn",
        "colab_type": "code",
        "colab": {}
      },
      "source": [
        "model_result = model.wv.most_similar(\"컨트리\")"
      ],
      "execution_count": 0,
      "outputs": []
    },
    {
      "cell_type": "code",
      "metadata": {
        "id": "cpAyCSolq2qH",
        "colab_type": "code",
        "colab": {}
      },
      "source": [
        "print(model_result)"
      ],
      "execution_count": 0,
      "outputs": []
    }
  ]
}