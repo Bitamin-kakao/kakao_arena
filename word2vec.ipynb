{
  "nbformat": 4,
  "nbformat_minor": 0,
  "metadata": {
    "colab": {
      "name": "word2vec.ipynb",
      "provenance": [],
      "collapsed_sections": [],
      "toc_visible": true
    },
    "kernelspec": {
      "name": "python3",
      "display_name": "Python 3"
    }
  },
  "cells": [
    {
      "cell_type": "code",
      "metadata": {
        "id": "uOQg8C2Y2s6m",
        "colab_type": "code",
        "colab": {}
      },
      "source": [
        "#불용어 제거\n",
        "def remove_stop_words(corpus):\n",
        "    stop_words = ['is', 'a', 'will', 'be']\n",
        "    results = []\n",
        "    for text in corpus:\n",
        "        tmp = text.split(' ')\n",
        "        for stop_word in stop_words:\n",
        "            if stop_word in tmp:\n",
        "                tmp.remove(stop_word)\n",
        "        results.append(\" \".join(tmp))\n",
        "    \n",
        "    return results"
      ],
      "execution_count": 0,
      "outputs": []
    },
    {
      "cell_type": "code",
      "metadata": {
        "id": "LeArqWPk2xRC",
        "colab_type": "code",
        "colab": {}
      },
      "source": [
        "corpus = remove_stop_words(corpus)\n",
        "corpus"
      ],
      "execution_count": 0,
      "outputs": []
    },
    {
      "cell_type": "markdown",
      "metadata": {
        "id": "Yfp0e-E04LON",
        "colab_type": "text"
      },
      "source": [
        "### word2vec table 생성"
      ]
    },
    {
      "cell_type": "code",
      "metadata": {
        "id": "-chOTUBH3u5y",
        "colab_type": "code",
        "colab": {}
      },
      "source": [
        "import pandas as pd\n",
        "from nltk.tokenize import word_tokenize, sent_tokenize #단어토큰화\n",
        "from gensim.models import Word2Vec #word2vec\n",
        "from gensim.models import KeyedVectors\n",
        "# for text in corpus:\n",
        "#     print(text)\n",
        "\n",
        "df = pd.DataFrame(data, columns = ['input', 'label'])\n",
        "result = [word_tokenize(text) for text in corpus]"
      ],
      "execution_count": 0,
      "outputs": []
    },
    {
      "cell_type": "code",
      "metadata": {
        "id": "h3D9csE243A9",
        "colab_type": "code",
        "colab": {}
      },
      "source": [
        "#size=w1,w2...의 개수\n",
        "#window는 주변 몇개의 단어까지 고려할 것인가\n",
        "model = Word2Vec(sentences=result, size=2, window=2, min_count=1, workers=4, sg=1)\n",
        "model_result = model.wv.most_similar(\"man\")\n",
        "print(model_result)"
      ],
      "execution_count": 0,
      "outputs": []
    },
    {
      "cell_type": "code",
      "metadata": {
        "id": "3fHfJ9M-Am3p",
        "colab_type": "code",
        "colab": {}
      },
      "source": [
        "#모델저장하기\n",
        "from gensim.models import KeyedVectors\n",
        "model.wv.save_word2vec_format('eng_w2v') # 모델 저장\n",
        "loaded_model = KeyedVectors.load_word2vec_format(\"eng_w2v\") #불러오기"
      ],
      "execution_count": 0,
      "outputs": []
    },
    {
      "cell_type": "code",
      "metadata": {
        "id": "DswgKSpFAo7O",
        "colab_type": "code",
        "colab": {}
      },
      "source": [
        "#모델불러오기\n",
        "model_result = loaded_model.most_similar(\"man\")\n",
        "print(model_result)"
      ],
      "execution_count": 0,
      "outputs": []
    },
    {
      "cell_type": "markdown",
      "metadata": {
        "id": "t-ibN2WWA4RX",
        "colab_type": "text"
      },
      "source": [
        "### kakao arena에 해보기"
      ]
    },
    {
      "cell_type": "markdown",
      "metadata": {
        "id": "XQwun3B3nHOc",
        "colab_type": "text"
      },
      "source": [
        "\n",
        "\n",
        "> #### 모듈 불러오기/설치\n",
        " - khaiii는 우분투 환경에서만 가능\n",
        " - 사전 추가할 경우에는 khaiii 다시 build 해야함\n",
        "    - 다시 build하면 시간이 오래 걸려서 한번 추가할 때 몰아서 하는게 효율적일 듯\n",
        "\n",
        "\n"
      ]
    },
    {
      "cell_type": "code",
      "metadata": {
        "id": "P00tBAhJA5JC",
        "colab_type": "code",
        "colab": {}
      },
      "source": [
        "import pickle\n",
        "import pandas as pd\n",
        "import sys\n",
        "import re\n",
        "from gensim.models import Word2Vec\n"
      ],
      "execution_count": 0,
      "outputs": []
    },
    {
      "cell_type": "code",
      "metadata": {
        "id": "ktYkKr73AdA2",
        "colab_type": "code",
        "colab": {}
      },
      "source": [
        "#khaiii 설치\n",
        "!git clone https://github.com/kakao/khaiii.git\n",
        "\n",
        "!pip install cmake\n",
        "\n",
        "!mkdir build\n",
        "\n",
        "!cd build && cmake /content/khaiii\n",
        "\n",
        "!cd /content/build/ && make all\n",
        "\n",
        "!cd /content/build/ && make resource\n",
        "\n",
        "!cd /content/build && make install\n",
        "\n",
        "!cd /content/build && make package_python\n",
        "\n",
        "!pip install /content/build/package_python\n",
        "\n",
        "from khaiii import KhaiiiApi\n",
        "api = KhaiiiApi()\n"
      ],
      "execution_count": 0,
      "outputs": []
    },
    {
      "cell_type": "markdown",
      "metadata": {
        "id": "lSRowcU7n6my",
        "colab_type": "text"
      },
      "source": [
        "\n",
        "\n",
        "> ### tag & playlist 같이 있는 데이터 만들기\n",
        "- 한 행에 playlist 이름이랑 tag를 합쳤음\n",
        "    - 이때 특수문자나 자음, 모음만 있는거는 모두 날림.\n",
        "    - ex) '짝사랑 고백 사랑 이별 슬픔 감성을 자극하는 곡들 짝사랑 취향저격 슬픔 고백 사랑 이별'\n",
        "- output.txt로 저장시킴\n"
      ]
    },
    {
      "cell_type": "code",
      "metadata": {
        "id": "sFc0utcvdmf5",
        "colab_type": "code",
        "colab": {}
      },
      "source": [
        "# tag & playlist 하나로 합치고, cleansing 해서 txt파일로 저장\n",
        "with open('train_genre.pickle', 'rb') as f:\n",
        "    train = pickle.load(f)\n",
        "\n",
        "def clean_str(text):\n",
        "    pattern = '([a-zA-Z0-9_.+-]+@[a-zA-Z0-9-]+\\.[a-zA-Z0-9-.]+)' # E-mail제거\n",
        "    text = re.sub(pattern=pattern, repl='', string=text)\n",
        "    pattern = '(http|ftp|https)://(?:[-\\w.]|(?:%[\\da-fA-F]{2}))+' # URL제거\n",
        "    text = re.sub(pattern=pattern, repl='', string=text)\n",
        "    pattern = '([ㄱ-ㅎㅏ-ㅣ]+)'  # 한글 자음, 모음 제거\n",
        "    text = re.sub(pattern=pattern, repl='', string=text)\n",
        "    pattern = '<[^>]*>'         # HTML 태그 제거\n",
        "    text = re.sub(pattern=pattern, repl='', string=text)\n",
        "    pattern = '[^\\w\\s]'         # 특수기호제거\n",
        "    text = re.sub(pattern=pattern, repl='', string=text)\n",
        "    return text  \n",
        "\n",
        "i=0\n",
        "import sys\n",
        "text = open('output.txt','w')\n",
        "\n",
        "while i < len(train):\n",
        "    mylist = [[train.plylst_title[i]],train.tags[i],train.genre[i]]\n",
        "    clean = clean_str(' '.join(sum(mylist,[])))\n",
        "    text.write(clean+'\\n')\n",
        "    print(clean)\n",
        "    i+=1\n",
        "text.close()\n",
        "\n",
        "with open('output.txt') as f:\n",
        "    data = f.read().splitlines()"
      ],
      "execution_count": 0,
      "outputs": []
    },
    {
      "cell_type": "code",
      "metadata": {
        "id": "NbJ8giO9tBNe",
        "colab_type": "code",
        "colab": {
          "base_uri": "https://localhost:8080/",
          "height": 36
        },
        "outputId": "108f0119-d97b-40a4-80bd-16aca8dfad5f"
      },
      "source": [
        "# ex = '그의 화려한 화려하는 바보이다'\n",
        "# re.sub(r\"(의|한|하는|이다)\\b|그의\", \"\",ex)\n"
      ],
      "execution_count": 77,
      "outputs": [
        {
          "output_type": "execute_result",
          "data": {
            "text/plain": [
              "'그 화려 화려 바보'"
            ]
          },
          "metadata": {
            "tags": []
          },
          "execution_count": 77
        }
      ]
    },
    {
      "cell_type": "code",
      "metadata": {
        "id": "vcJNIxNxVSNm",
        "colab_type": "code",
        "colab": {
          "base_uri": "https://localhost:8080/",
          "height": 55
        },
        "outputId": "3bc8badd-efd7-44ef-f88b-1b5c75f8f4c8"
      },
      "source": [
        "#원하는 파일/디렉토리 명 찾고싶을 때\n",
        "!find / -name 'char_align.map*'"
      ],
      "execution_count": 48,
      "outputs": [
        {
          "output_type": "stream",
          "text": [
            "/content/build/_CPack_Packages/Linux-Source/ZIP/khaiii-0.4/rsc/src/char_align.map\n",
            "/content/khaiii/rsc/src/char_align.map\n"
          ],
          "name": "stdout"
        }
      ]
    },
    {
      "cell_type": "markdown",
      "metadata": {
        "id": "eEk5RlCjpPWv",
        "colab_type": "text"
      },
      "source": [
        "\n",
        "\n",
        "> ### khaiii 사전추가\n",
        "- 사전추가 할 때 다시 build 하는 코드\n",
        "\n"
      ]
    },
    {
      "cell_type": "code",
      "metadata": {
        "id": "h1cvAlXkPOHx",
        "colab_type": "code",
        "colab": {}
      },
      "source": [
        "#사전추가\n",
        "#!cd /content/khaiii/rsc # 어디에 있던 rsc로 와서 실행하기\n",
        "#!mkdir -p ../build/share/khaiii\n",
        "#!PYTHONPATH=/content/khaiii/src/main/python/ /content/khaiii/rsc/bin/compile_preanal.py --rsc-src=/content/khaiii/rsc/src --rsc-dir=/content/build/share/khaiii\n",
        "\n",
        "!cd /content/build/ && make resource\n",
        "\n",
        "!cd /content/build && make install\n",
        "\n",
        "!cd /content/build && make package_python\n",
        "\n",
        "!pip install /content/build/package_python"
      ],
      "execution_count": 0,
      "outputs": []
    },
    {
      "cell_type": "code",
      "metadata": {
        "id": "2NlpzY9TheJf",
        "colab_type": "code",
        "colab": {
          "base_uri": "https://localhost:8080/",
          "height": 297
        },
        "outputId": "f7ce5225-65fa-4644-ce27-87609fbe2a0e"
      },
      "source": [
        "#사전추가 잘 됐는지 확인용(캐럴)\n",
        "from khaiii import KhaiiiApi\n",
        "api = KhaiiiApi()\n",
        "for word in api.analyze(data[3]):\n",
        "    print(word)"
      ],
      "execution_count": 64,
      "outputs": [
        {
          "output_type": "stream",
          "text": [
            "크리스마스\t크리스마스/NNG\n",
            "분위기에\t분위기/NNG + 에/JKB\n",
            "흠뻑\t흠뻑/MAG\n",
            "취하고\t취하/VV + 고/EC\n",
            "싶을때\t싶/VX + 을/ETM + 때/NNG\n",
            "연말\t연말/NNG\n",
            "눈오는날\t눈/NNG + 오/VV + 는/ETM + 날/NNG\n",
            "캐럴\t캐럴/NNG\n",
            "분위기\t분위기/NNG\n",
            "따듯한\t따듯/XR + 하/XSA + ㄴ/ETM\n",
            "크리스마스캐럴\t크리스마스캐럴/NNG\n",
            "겨울노래\t겨울/NNG + 노래/NNG\n",
            "크리스마스\t크리스마스/NNG\n",
            "겨울왕국\t겨울왕국/NNG\n",
            "크리스마스송\t크리스마스/NNG + 송/MAG\n"
          ],
          "name": "stdout"
        }
      ]
    },
    {
      "cell_type": "markdown",
      "metadata": {
        "id": "xm7Xnv7Cpb2F",
        "colab_type": "text"
      },
      "source": [
        "\n",
        "\n",
        "> ### khaiii 형태소 추출\n",
        " - 일단 명사만 추출하여 morphs에 저장\n",
        " - 이중리스트 형태\n",
        "    - 제일 하부 리스트는 한 플레이리스트에 대한 명사임.\n",
        "\n"
      ]
    },
    {
      "cell_type": "code",
      "metadata": {
        "id": "8ytpt24qEwIj",
        "colab_type": "code",
        "colab": {}
      },
      "source": [
        "#띄어쓰기 안되어있어서 이거만 일단 수작업으로 바꿔둠\n",
        "data[6] = '짝사랑 고백 사랑 이별 슬픔 감성을 자극하는 곡들 짝사랑 취향저격 슬픔 고백 사랑 이별'"
      ],
      "execution_count": 0,
      "outputs": []
    },
    {
      "cell_type": "code",
      "metadata": {
        "id": "TVkmfnMrAcAn",
        "colab_type": "code",
        "colab": {}
      },
      "source": [
        "#토큰화하기\n",
        "morphs = []\n",
        "tmp_list = []\n",
        "for i in range(0,len(data)):\n",
        "    for word in api.analyze(data[i]):\n",
        "        for morph in word.morphs:\n",
        "            if morph.tag in ['NNG', 'NNP','NP']:\n",
        "                tmp_list.append(morph.lex)\n",
        "    morphs.append(tmp_list)\n",
        "    tmp_list = []\n"
      ],
      "execution_count": 0,
      "outputs": []
    },
    {
      "cell_type": "markdown",
      "metadata": {
        "id": "fqGMsKHuptbQ",
        "colab_type": "text"
      },
      "source": [
        "\n",
        "\n",
        "> ### word2vec\n",
        "- 내 생각: 한 자리 단어, 비슷한 단어 등을 묶어 주고 다시 해봐야할 듯. 지금 단어를 넣으면 비슷한 말들을 뽑아줘서 정작 tag를 안보여줌.\n",
        "    - ex) '요즘'이랑 비슷한 단어 검색하면 '자주', '요새'가 나옴. 이건 너무 당연한 말이라서 분석이라고 보기가 힘듦. 이런 단어들 전처리 필요\n",
        "\n",
        "- 저번에 블로그에서 봤던거 처럼 가중치 행렬을 만들어서 문장을 넣어도 태그를 예측할 수 있게끔 해도 좋을듯.\n",
        "https://ratsgo.github.io/natural%20language%20processing/2017/03/08/word2vec/\n",
        "\n"
      ]
    },
    {
      "cell_type": "code",
      "metadata": {
        "id": "6wDJHTt5Rc2q",
        "colab_type": "code",
        "colab": {
          "base_uri": "https://localhost:8080/",
          "height": 36
        },
        "outputId": "a3c8cf50-cc6f-4a5a-d746-55dbacd86b97"
      },
      "source": [
        "# word2vec with playlist_title\n",
        "from gensim.models import Word2Vec\n",
        "model_play = Word2Vec(sentences=morphs,\n",
        "                 size=256, window=4,\n",
        "                 min_count=2,\n",
        "                 workers=4,\n",
        "                 sg=1)\n",
        "print(model_play)\n",
        "\n",
        "#model_play.save('play_w2v.model') # 모델 저장"
      ],
      "execution_count": 155,
      "outputs": [
        {
          "output_type": "stream",
          "text": [
            "Word2Vec(vocab=14812, size=256, alpha=0.025)\n"
          ],
          "name": "stdout"
        }
      ]
    },
    {
      "cell_type": "code",
      "metadata": {
        "id": "eeo8nRc1qyCn",
        "colab_type": "code",
        "outputId": "385b3b80-21e3-4345-d013-4635c04d0784",
        "colab": {
          "base_uri": "https://localhost:8080/",
          "height": 93
        }
      },
      "source": [
        "model_result = model_play.wv.most_similar(\"요즘\")\n",
        "print(model_result)"
      ],
      "execution_count": 166,
      "outputs": [
        {
          "output_type": "stream",
          "text": [
            "[('요새', 0.7125931978225708), ('유행', 0.6676451563835144), ('자주', 0.663533627986908), ('목록', 0.6608127355575562), ('최애', 0.6597887277603149), ('길거리', 0.6588185429573059), ('핫한', 0.6538964509963989), ('위주', 0.6538501977920532), ('한곡', 0.6501908898353577), ('내맘', 0.6498870253562927)]\n"
          ],
          "name": "stdout"
        },
        {
          "output_type": "stream",
          "text": [
            "/usr/local/lib/python3.6/dist-packages/gensim/matutils.py:737: FutureWarning: Conversion of the second argument of issubdtype from `int` to `np.signedinteger` is deprecated. In future, it will be treated as `np.int64 == np.dtype(int).type`.\n",
            "  if np.issubdtype(vec.dtype, np.int):\n"
          ],
          "name": "stderr"
        }
      ]
    },
    {
      "cell_type": "code",
      "metadata": {
        "id": "NHPZPnUuv6Cl",
        "colab_type": "code",
        "colab": {
          "base_uri": "https://localhost:8080/",
          "height": 915
        },
        "outputId": "53609182-f780-42fe-ad8e-75880f2bceb0"
      },
      "source": [
        "train.head(13)"
      ],
      "execution_count": 161,
      "outputs": [
        {
          "output_type": "execute_result",
          "data": {
            "text/html": [
              "<div>\n",
              "<style scoped>\n",
              "    .dataframe tbody tr th:only-of-type {\n",
              "        vertical-align: middle;\n",
              "    }\n",
              "\n",
              "    .dataframe tbody tr th {\n",
              "        vertical-align: top;\n",
              "    }\n",
              "\n",
              "    .dataframe thead th {\n",
              "        text-align: right;\n",
              "    }\n",
              "</style>\n",
              "<table border=\"1\" class=\"dataframe\">\n",
              "  <thead>\n",
              "    <tr style=\"text-align: right;\">\n",
              "      <th></th>\n",
              "      <th>id</th>\n",
              "      <th>like_cnt</th>\n",
              "      <th>plylst_title</th>\n",
              "      <th>songs</th>\n",
              "      <th>tags</th>\n",
              "      <th>updt_date</th>\n",
              "      <th>genre</th>\n",
              "    </tr>\n",
              "  </thead>\n",
              "  <tbody>\n",
              "    <tr>\n",
              "      <th>0</th>\n",
              "      <td>61281</td>\n",
              "      <td>71</td>\n",
              "      <td>여행같은 음악</td>\n",
              "      <td>[525514, 129701, 383374, 562083, 297861, 13954...</td>\n",
              "      <td>[락]</td>\n",
              "      <td>2013-12-19 18:36:19.000</td>\n",
              "      <td>[J-POP, 일렉트로니카, R&amp;B/Soul, POP, 포크/블루스/컨트리, 록/메탈]</td>\n",
              "    </tr>\n",
              "    <tr>\n",
              "      <th>1</th>\n",
              "      <td>10532</td>\n",
              "      <td>1</td>\n",
              "      <td>요즘 너 말야</td>\n",
              "      <td>[432406, 675945, 497066, 120377, 389529, 24427...</td>\n",
              "      <td>[추억, 회상]</td>\n",
              "      <td>2014-12-02 16:19:42.000</td>\n",
              "      <td>[포크/블루스, 일렉트로니카, 재즈, 뉴에이지, POP, OST, 발라드, 록/메탈...</td>\n",
              "    </tr>\n",
              "    <tr>\n",
              "      <th>2</th>\n",
              "      <td>76951</td>\n",
              "      <td>17</td>\n",
              "      <td>편하게, 잔잔하게 들을 수 있는 곡.-</td>\n",
              "      <td>[83116, 276692, 166267, 186301, 354465, 256598...</td>\n",
              "      <td>[까페, 잔잔한]</td>\n",
              "      <td>2017-08-28 07:09:34.000</td>\n",
              "      <td>[포크/블루스, 랩/힙합, 재즈, 일렉트로니카, R&amp;B/Soul, 발라드, 록/메탈...</td>\n",
              "    </tr>\n",
              "    <tr>\n",
              "      <th>3</th>\n",
              "      <td>147456</td>\n",
              "      <td>33</td>\n",
              "      <td>크리스마스 분위기에 흠뻑 취하고 싶을때</td>\n",
              "      <td>[394031, 195524, 540149, 287984, 440773, 10033...</td>\n",
              "      <td>[연말, 눈오는날, 캐럴, 분위기, 따듯한, 크리스마스캐럴, 겨울노래, 크리스마스,...</td>\n",
              "      <td>2019-12-05 15:15:18.000</td>\n",
              "      <td>[성인가요, 포크/블루스, 재즈, 어린이/태교, POP, R&amp;B/Soul, 뉴에이지...</td>\n",
              "    </tr>\n",
              "    <tr>\n",
              "      <th>4</th>\n",
              "      <td>27616</td>\n",
              "      <td>9</td>\n",
              "      <td>추억의 노래 ㅋ</td>\n",
              "      <td>[159327, 553610, 5130, 645103, 294435, 100657,...</td>\n",
              "      <td>[댄스]</td>\n",
              "      <td>2011-10-25 13:54:56.000</td>\n",
              "      <td>[랩/힙합, R&amp;B/Soul, 발라드, 댄스, 록/메탈, 아이돌]</td>\n",
              "    </tr>\n",
              "    <tr>\n",
              "      <th>5</th>\n",
              "      <td>69252</td>\n",
              "      <td>435</td>\n",
              "      <td>2017 Pop Trend</td>\n",
              "      <td>[418694, 222305, 96545, 135950, 304687, 457451...</td>\n",
              "      <td>[운동, 드라이브, Pop, 트로피컬하우스, 힐링, 기분전환, 2017, 팝, 트렌...</td>\n",
              "      <td>2017-09-15 15:59:26.000</td>\n",
              "      <td>[랩/힙합, 일렉트로니카, R&amp;B/Soul, POP, OST, 록/메탈, EDM]</td>\n",
              "    </tr>\n",
              "    <tr>\n",
              "      <th>6</th>\n",
              "      <td>45339</td>\n",
              "      <td>24</td>\n",
              "      <td>짝사랑..고백..사랑..이별..슬픔.. 감성을 자극하는곡들!</td>\n",
              "      <td>[528130, 505036, 398947, 627363, 37748, 376358...</td>\n",
              "      <td>[짝사랑, 취향저격, 슬픔, 고백, 사랑, 이별]</td>\n",
              "      <td>2016-10-24 21:30:17.000</td>\n",
              "      <td>[포크/블루스, R&amp;B/Soul, OST, 발라드, 록/메탈, 아이돌, 인디음악]</td>\n",
              "    </tr>\n",
              "    <tr>\n",
              "      <th>7</th>\n",
              "      <td>36557</td>\n",
              "      <td>5</td>\n",
              "      <td>멍청이.. 내맘도 몰라.</td>\n",
              "      <td>[496913, 632529, 501426, 515574, 411161, 10341...</td>\n",
              "      <td>[잔잔한, 추억, 회상]</td>\n",
              "      <td>2008-09-23 22:32:02.000</td>\n",
              "      <td>[랩/힙합, R&amp;B/Soul, OST, 발라드, 록/메탈, 댄스, 아이돌]</td>\n",
              "    </tr>\n",
              "    <tr>\n",
              "      <th>8</th>\n",
              "      <td>70741</td>\n",
              "      <td>0</td>\n",
              "      <td>DANCING IN THE MOON-LIGHT .01</td>\n",
              "      <td>[634861, 270738, 163936, 692209, 449477, 56342...</td>\n",
              "      <td>[일렉트로니카, 포크, 메탈, 락, 댄스, 인디]</td>\n",
              "      <td>2019-11-30 21:17:59.000</td>\n",
              "      <td>[성인가요, 일렉트로니카, OST, 발라드, 록/메탈, 댄스, 아이돌]</td>\n",
              "    </tr>\n",
              "    <tr>\n",
              "      <th>9</th>\n",
              "      <td>10288</td>\n",
              "      <td>7</td>\n",
              "      <td>[록/메탈] Written by 이일우</td>\n",
              "      <td>[613315, 439294, 230806, 497932, 113479, 93506...</td>\n",
              "      <td>[록, Metal, 이일우, M에센셜, 메탈, Rock, 락]</td>\n",
              "      <td>2016-06-17 18:23:54.000</td>\n",
              "      <td>[록/메탈, 인디음악]</td>\n",
              "    </tr>\n",
              "    <tr>\n",
              "      <th>10</th>\n",
              "      <td>31804</td>\n",
              "      <td>74</td>\n",
              "      <td>걸그룹 땐쓰쏭</td>\n",
              "      <td>[507380, 144826, 553894, 660381, 260730, 28188...</td>\n",
              "      <td>[kpop, 댄스, 걸그룹댄스, 스트레스해소]</td>\n",
              "      <td>2020-04-13 23:36:55.000</td>\n",
              "      <td>[랩/힙합, R&amp;B/Soul, 댄스, 록/메탈, 아이돌]</td>\n",
              "    </tr>\n",
              "    <tr>\n",
              "      <th>11</th>\n",
              "      <td>151693</td>\n",
              "      <td>42</td>\n",
              "      <td>노래로 의지를 불태우자! \"1일1다짐\" st용 프로필뮤직</td>\n",
              "      <td>[658738, 698779, 124485, 512610, 310028, 17422...</td>\n",
              "      <td>[새해, 여행, 프로필음악, 카카오톡, 기분전환, 소원, 프로필, 소망, 다짐, 카톡]</td>\n",
              "      <td>2017-02-16 15:45:23.000</td>\n",
              "      <td>[포크/블루스, 랩/힙합, OST, 발라드, 댄스, 록/메탈, 아이돌, 인디음악]</td>\n",
              "    </tr>\n",
              "    <tr>\n",
              "      <th>12</th>\n",
              "      <td>112060</td>\n",
              "      <td>1</td>\n",
              "      <td>지친 너를 위로해줄 제목편지 준비해봤어</td>\n",
              "      <td>[449808, 691770, 640657, 313395, 697100, 34090...</td>\n",
              "      <td>[듣고, 우울, 힐링, 이거, 힘내]</td>\n",
              "      <td>2018-01-04 22:49:29.000</td>\n",
              "      <td>[성인가요, 포크/블루스, 랩/힙합, 일렉트로니카, R&amp;B/Soul, 발라드, 록/...</td>\n",
              "    </tr>\n",
              "  </tbody>\n",
              "</table>\n",
              "</div>"
            ],
            "text/plain": [
              "        id  ...                                              genre\n",
              "0    61281  ...   [J-POP, 일렉트로니카, R&B/Soul, POP, 포크/블루스/컨트리, 록/메탈]\n",
              "1    10532  ...  [포크/블루스, 일렉트로니카, 재즈, 뉴에이지, POP, OST, 발라드, 록/메탈...\n",
              "2    76951  ...  [포크/블루스, 랩/힙합, 재즈, 일렉트로니카, R&B/Soul, 발라드, 록/메탈...\n",
              "3   147456  ...  [성인가요, 포크/블루스, 재즈, 어린이/태교, POP, R&B/Soul, 뉴에이지...\n",
              "4    27616  ...               [랩/힙합, R&B/Soul, 발라드, 댄스, 록/메탈, 아이돌]\n",
              "5    69252  ...      [랩/힙합, 일렉트로니카, R&B/Soul, POP, OST, 록/메탈, EDM]\n",
              "6    45339  ...      [포크/블루스, R&B/Soul, OST, 발라드, 록/메탈, 아이돌, 인디음악]\n",
              "7    36557  ...          [랩/힙합, R&B/Soul, OST, 발라드, 록/메탈, 댄스, 아이돌]\n",
              "8    70741  ...            [성인가요, 일렉트로니카, OST, 발라드, 록/메탈, 댄스, 아이돌]\n",
              "9    10288  ...                                       [록/메탈, 인디음악]\n",
              "10   31804  ...                    [랩/힙합, R&B/Soul, 댄스, 록/메탈, 아이돌]\n",
              "11  151693  ...      [포크/블루스, 랩/힙합, OST, 발라드, 댄스, 록/메탈, 아이돌, 인디음악]\n",
              "12  112060  ...  [성인가요, 포크/블루스, 랩/힙합, 일렉트로니카, R&B/Soul, 발라드, 록/...\n",
              "\n",
              "[13 rows x 7 columns]"
            ]
          },
          "metadata": {
            "tags": []
          },
          "execution_count": 161
        }
      ]
    },
    {
      "cell_type": "code",
      "metadata": {
        "id": "mXxXQNL6uPoy",
        "colab_type": "code",
        "colab": {
          "base_uri": "https://localhost:8080/",
          "height": 260
        },
        "outputId": "a5295176-d314-4f88-afb4-d90a77380351"
      },
      "source": [
        "model_play.wv.vectors # 가중치 값 보기"
      ],
      "execution_count": 120,
      "outputs": [
        {
          "output_type": "execute_result",
          "data": {
            "text/plain": [
              "array([[-0.5344601 ,  0.21822175,  0.29349607, ..., -0.4940652 ,\n",
              "        -0.1701847 , -0.75554144],\n",
              "       [-0.24406256, -0.05841425, -0.07398453, ..., -1.0890313 ,\n",
              "         0.00898774, -0.5399734 ],\n",
              "       [-0.99523723,  0.02168699,  0.01518068, ..., -0.19914006,\n",
              "         0.3940525 , -0.5004863 ],\n",
              "       ...,\n",
              "       [-0.49982142,  0.7855709 , -0.2701544 , ..., -0.30409923,\n",
              "         0.31602624, -0.02956222],\n",
              "       [-0.56246597, -0.01886685, -0.34003285, ..., -0.16042171,\n",
              "        -0.07693619, -0.83977747],\n",
              "       [-1.1292807 , -0.07890259,  0.2648496 , ..., -0.21141444,\n",
              "        -0.02754082, -0.20333733]], dtype=float32)"
            ]
          },
          "metadata": {
            "tags": []
          },
          "execution_count": 120
        }
      ]
    },
    {
      "cell_type": "code",
      "metadata": {
        "id": "oWVf3VdvtGPc",
        "colab_type": "code",
        "colab": {
          "base_uri": "https://localhost:8080/",
          "height": 131
        },
        "outputId": "14b2256f-d955-41e1-eeca-13c976e96f2a"
      },
      "source": [
        "word_vectors = model_play.wv\n",
        "vocabs = word_vectors.vocab.keys()\n",
        "word_vectors_list = [word_vectors[v] for v in vocabs] # word2vec에 들어있는 단어 보여줌\n",
        "\n",
        "# 두 단어의 거리(비슷한 정도) 계산\n",
        "print(word_vectors.similarity(w1='새벽',w2='사랑'))"
      ],
      "execution_count": 105,
      "outputs": [
        {
          "output_type": "stream",
          "text": [
            "/usr/local/lib/python3.6/dist-packages/gensim/matutils.py:737: FutureWarning: Conversion of the second argument of issubdtype from `int` to `np.signedinteger` is deprecated. In future, it will be treated as `np.int64 == np.dtype(int).type`.\n",
            "  if np.issubdtype(vec.dtype, np.int):\n",
            "/usr/local/lib/python3.6/dist-packages/smart_open/smart_open_lib.py:253: UserWarning: This function is deprecated, use smart_open.open instead. See the migration notes for details: https://github.com/RaRe-Technologies/smart_open/blob/master/README.rst#migrating-to-the-new-open-function\n",
            "  'See the migration notes for details: %s' % _MIGRATION_NOTES_URL\n"
          ],
          "name": "stderr"
        },
        {
          "output_type": "stream",
          "text": [
            "0.47946393\n"
          ],
          "name": "stdout"
        }
      ]
    }
  ]
}